{
 "cells": [
  {
   "cell_type": "code",
   "execution_count": 1,
   "id": "1d2f5c0c",
   "metadata": {},
   "outputs": [],
   "source": [
    "import numpy as np\n",
    "import pandas as pd\n",
    "from scipy.stats import poisson\n",
    "from warnings import filterwarnings\n",
    "filterwarnings('ignore')\n"
   ]
  },
  {
   "cell_type": "markdown",
   "id": "2039850e",
   "metadata": {},
   "source": [
    "## 1. The number of customer returns in a retail chain per day follows a Poisson distribution at a rate of 25 returns per day. Write Python code to answer the following questions:\n",
    "\n",
    "## (a) Calculate the probability that the number of returns exceeds 30 in a day."
   ]
  },
  {
   "cell_type": "code",
   "execution_count": 2,
   "id": "35a31f06",
   "metadata": {},
   "outputs": [
    {
     "data": {
      "text/plain": [
       "0.1366911308473363"
      ]
     },
     "execution_count": 2,
     "metadata": {},
     "output_type": "execute_result"
    }
   ],
   "source": [
    "# P(X=k) = (mu)k * e– (mu)/ k      #k= number of successes\n",
    "1-poisson.cdf(k=30, mu=25)   #Probability Greater than Some Value\n",
    "                            #mu= rate of change of event being happening\n",
    "                            #e = a constant equal to approximately 2.71828"
   ]
  },
  {
   "cell_type": "markdown",
   "id": "2bd73684",
   "metadata": {},
   "source": [
    "## (b) If the chance of fraudulent return is 0.05, calculate the probability that there will be at least 2 fraudulent returns in any given day."
   ]
  },
  {
   "cell_type": "code",
   "execution_count": 3,
   "id": "bc51a8e1",
   "metadata": {},
   "outputs": [
    {
     "data": {
      "text/plain": [
       "0.049999999764946554"
      ]
     },
     "execution_count": 3,
     "metadata": {},
     "output_type": "execute_result"
    }
   ],
   "source": [
    "(1-poisson.cdf(k=2, mu=25))*0.05 "
   ]
  },
  {
   "cell_type": "markdown",
   "id": "15871099",
   "metadata": {},
   "source": [
    "## 2. A student is applying for Masters course in 8 US Universities and believes that she has in each of the eight universities a constant and independent 0.42 probability of getting selected. Write code to answer the following questions:\n",
    "\n",
    "## (a) What is the probability that she will get call from at least 3 universities? "
   ]
  },
  {
   "cell_type": "code",
   "execution_count": 4,
   "id": "21916702",
   "metadata": {},
   "outputs": [
    {
     "data": {
      "text/plain": [
       "0.45265884031065606"
      ]
     },
     "execution_count": 4,
     "metadata": {},
     "output_type": "execute_result"
    }
   ],
   "source": [
    "from scipy import stats\n",
    "1 - stats.binom.cdf(3, 8, 0.42)\n"
   ]
  },
  {
   "cell_type": "markdown",
   "id": "33d8e38a",
   "metadata": {},
   "source": [
    "## (b) What is the probability that she will get calls from exactly 4 universities?"
   ]
  },
  {
   "cell_type": "code",
   "execution_count": 5,
   "id": "7dc44a4c",
   "metadata": {},
   "outputs": [
    {
     "data": {
      "text/plain": [
       "0.2464944673605121"
      ]
     },
     "execution_count": 5,
     "metadata": {},
     "output_type": "execute_result"
    }
   ],
   "source": [
    "stats.binom.pmf(4, 8, 0.42)   #probability of exact number"
   ]
  },
  {
   "cell_type": "markdown",
   "id": "a517c3ce",
   "metadata": {},
   "source": [
    "## 3. The time-of-failure of a machine follows exponential distribution with mean time between failures(MTBF) estimated to be 85 hrs. Write code to answer the following questions:\n",
    "\n",
    "## (a) Calculate the probability that the system will fail before 85 hrs. "
   ]
  },
  {
   "cell_type": "code",
   "execution_count": 6,
   "id": "985b773f",
   "metadata": {},
   "outputs": [
    {
     "data": {
      "text/plain": [
       "0.6320696377349755"
      ]
     },
     "execution_count": 6,
     "metadata": {},
     "output_type": "execute_result"
    }
   ],
   "source": [
    "stats.expon.cdf(x=85,loc=1/85, scale=85)\n"
   ]
  },
  {
   "cell_type": "markdown",
   "id": "5fe965e2",
   "metadata": {},
   "source": [
    "## (b) Calculate the probability that it will not fail up to 150 hrs. \n"
   ]
  },
  {
   "cell_type": "code",
   "execution_count": 7,
   "id": "66e19453",
   "metadata": {},
   "outputs": [
    {
     "data": {
      "text/plain": [
       "0.17126084522766882"
      ]
     },
     "execution_count": 7,
     "metadata": {},
     "output_type": "execute_result"
    }
   ],
   "source": [
    "1 - stats.expon.cdf(x=150, loc=1/85, scale=85)  #substracting from 1 because we are finding probability that machine will not fail."
   ]
  },
  {
   "cell_type": "markdown",
   "id": "cbfb10e9",
   "metadata": {},
   "source": [
    "## 4. As per a survey on use of pesticides among 1000 farmers in grape farming for around 10 acres of grape farmland, it was found that the grape farmers spray 38 liters of pesticides in a week on an average with the corresponding standard deviation of 5 liters. Assume that the pesticide spray per week follows a normal distribution. Write code to answer the following questions:\n",
    "\n",
    "\n",
    "## (a) What proportion of the farmers is spraying more than 50 liters of pesticide in a week? "
   ]
  },
  {
   "cell_type": "code",
   "execution_count": 8,
   "id": "b18faf26",
   "metadata": {},
   "outputs": [
    {
     "data": {
      "text/plain": [
       "0.008197535924596155"
      ]
     },
     "execution_count": 8,
     "metadata": {},
     "output_type": "execute_result"
    }
   ],
   "source": [
    "1 - stats.norm.cdf(50, 38, 5)"
   ]
  },
  {
   "cell_type": "markdown",
   "id": "86d9eaf8",
   "metadata": {},
   "source": [
    "## (b) What proportion of farmers is spraying less than 10 liters?"
   ]
  },
  {
   "cell_type": "code",
   "execution_count": 9,
   "id": "d92a3ac8",
   "metadata": {},
   "outputs": [
    {
     "data": {
      "text/plain": [
       "3.3157459783261613e-09"
      ]
     },
     "execution_count": 9,
     "metadata": {},
     "output_type": "execute_result"
    }
   ],
   "source": [
    "stats.norm.cdf(9, 38, 5)\n"
   ]
  },
  {
   "cell_type": "markdown",
   "id": "7d119967",
   "metadata": {},
   "source": [
    "## (c) What proportion of farmers is spraying between 30 liters and 60 liters? \n"
   ]
  },
  {
   "cell_type": "code",
   "execution_count": 10,
   "id": "2722815f",
   "metadata": {},
   "outputs": [
    {
     "data": {
      "text/plain": [
       "0.9999945874560923"
      ]
     },
     "execution_count": 10,
     "metadata": {},
     "output_type": "execute_result"
    }
   ],
   "source": [
    "pro_60_liter = stats.norm.cdf(60, 38, 5) \n",
    "pro_60_liter\n"
   ]
  },
  {
   "cell_type": "code",
   "execution_count": 11,
   "id": "5f1e0ff3",
   "metadata": {},
   "outputs": [
    {
     "data": {
      "text/plain": [
       "0.054799291699557974"
      ]
     },
     "execution_count": 11,
     "metadata": {},
     "output_type": "execute_result"
    }
   ],
   "source": [
    "pro_30_liter = stats.norm.cdf(30, 38, 5)\n",
    "pro_30_liter"
   ]
  },
  {
   "cell_type": "code",
   "execution_count": 12,
   "id": "db6f20b4",
   "metadata": {},
   "outputs": [
    {
     "data": {
      "text/plain": [
       "0.9451952957565343"
      ]
     },
     "execution_count": 12,
     "metadata": {},
     "output_type": "execute_result"
    }
   ],
   "source": [
    "pro_bet_30_and_60 = pro_60_liter-pro_30_liter\n",
    "pro_bet_30_and_60"
   ]
  },
  {
   "cell_type": "markdown",
   "id": "0c155ff9",
   "metadata": {},
   "source": [
    "## 5. A bottle filling machine fills water into 5 liters (5000 cm3) bottles. The company wants to test the null hypothesis that the average amount of water filled by the machine into the bottle is at least5000 cm3\n",
    "\n",
    "* A random sample of 60 bottles coming out of the machine was selected and the exact contents of the selected bottles are recorded. The sample mean was 4,998.1 cm3\n",
    "* The population standard deviation is known from the experience to be 1.30 cm3\n",
    "* Assume that the population is normally distributed with the standard deviation of 1.30 cm3\n",
    "* Write code to test the hypothesis at a of 5%. Explain the results."
   ]
  },
  {
   "cell_type": "code",
   "execution_count": 13,
   "id": "6d83d8c7",
   "metadata": {},
   "outputs": [],
   "source": [
    "import math"
   ]
  },
  {
   "cell_type": "markdown",
   "id": "5e0258ec",
   "metadata": {},
   "source": [
    "* Assume Null Hypothesis (H0) that the average amount of water filled by the machine into the bottle is at least 5000 cm3\n",
    "* Alternate Hypothesis (H1) as the average amount of water filled by the machine into the bottle is at NOT least 5000 cm3"
   ]
  },
  {
   "cell_type": "code",
   "execution_count": 14,
   "id": "4b347f19",
   "metadata": {},
   "outputs": [],
   "source": [
    "#making ztest as functions\n",
    "\n",
    "def z_test(sample_mean,population_mean,std_deviation,sample_length):\n",
    "    z_score=(sample_mean-population_mean)/(std_deviation/math.sqrt(sample_length))\n",
    "    return z_score\n"
   ]
  },
  {
   "cell_type": "code",
   "execution_count": 15,
   "id": "cadef2fb",
   "metadata": {},
   "outputs": [
    {
     "data": {
      "text/plain": [
       "-11.321028242757974"
      ]
     },
     "execution_count": 15,
     "metadata": {},
     "output_type": "execute_result"
    }
   ],
   "source": [
    "z_test(4998.1,5000,1.30,60)"
   ]
  },
  {
   "cell_type": "code",
   "execution_count": 16,
   "id": "fc781630",
   "metadata": {},
   "outputs": [
    {
     "data": {
      "text/plain": [
       "1.6448536269514729"
      ]
     },
     "execution_count": 16,
     "metadata": {},
     "output_type": "execute_result"
    }
   ],
   "source": [
    "z_critical_value = stats.norm.isf(q = 0.05)\n",
    "z_critical_value"
   ]
  },
  {
   "cell_type": "markdown",
   "id": "d3e0a4f6",
   "metadata": {},
   "source": [
    "* since  z score < critical value(1.645)\n",
    "* so we accept the null hypothesis. In other words,average amount of water filled by the machine into the bottle is at least 5000 cm3"
   ]
  },
  {
   "cell_type": "markdown",
   "id": "a5ac6d08",
   "metadata": {},
   "source": [
    "## 6. A fabric manufacturer would like to understand the proportion of defective fabrics they produce.His shop floor staffs have been stating that the percentage of defective is not more than 18%. He would like to test whether the claim made by his shop floor staff is correct. He picked up a random sample of 100 fabrics and found 22 defectives. Use α = 0.05 and write code to test the hypothesis that the percentage of defective components is less than 18%"
   ]
  },
  {
   "cell_type": "code",
   "execution_count": 18,
   "id": "f036f58e",
   "metadata": {},
   "outputs": [
    {
     "name": "stdout",
     "output_type": "stream",
     "text": [
      "Requirement already satisfied: scipy in c:\\users\\abhin\\anaconda3\\lib\\site-packages (1.6.2)\n",
      "Requirement already satisfied: numpy<1.23.0,>=1.16.5 in c:\\users\\abhin\\anaconda3\\lib\\site-packages (from scipy) (1.20.1)\n"
     ]
    }
   ],
   "source": [
    "!pip install scipy\n",
    "from scipy.stats import binom_test\n",
    "#sample_size = 100\n",
    "#observed_defective = 22\n",
    "#expected_defective <= 18"
   ]
  },
  {
   "cell_type": "markdown",
   "id": "31d4e8a2",
   "metadata": {},
   "source": [
    "* Assume Null Hypothesis(H0) that the  percentage of defective is more than 18%\n",
    "* Alternate Hypothesis (H1) that  percentage of defective is not more than 18% "
   ]
  },
  {
   "cell_type": "code",
   "execution_count": 19,
   "id": "618dc64e",
   "metadata": {},
   "outputs": [
    {
     "data": {
      "text/plain": [
       "0.29785331232911655"
      ]
     },
     "execution_count": 19,
     "metadata": {},
     "output_type": "execute_result"
    }
   ],
   "source": [
    "#calculating Binominal test which should be only 2 output\n",
    "alpha = 0.05   #significance value\n",
    "p_value = binom_test(x=22, n=100, p=0.18)  #calculating P value\n",
    "p_value"
   ]
  },
  {
   "cell_type": "markdown",
   "id": "b9f911ed",
   "metadata": {},
   "source": [
    "* Since P_value > significance value (alpha),so we will accept the null hypothesis. \n",
    "* In other words percentage of defective components is more than 18%\n"
   ]
  },
  {
   "cell_type": "markdown",
   "id": "8aad73f6",
   "metadata": {},
   "source": [
    "## 7.Suppose that the makers of ABC batteries want to demonstrate that their battery lasts an average of at least 60 min longer than their competitor brand. Two independent random samples of 100 batteries of each kind are selected from both the brands, and the batteries are used continuously.The sample average life of ABC is found to be 450 min. The average life of competitor batteries is 368 min with the sample standard deviation of 82 min and 78 min, respectively. Frame a hypothesis and write the code to test ABC’s claim at 95% significance."
   ]
  },
  {
   "cell_type": "code",
   "execution_count": 20,
   "id": "a718bd46",
   "metadata": {},
   "outputs": [],
   "source": [
    "#sample_size_1 = 100, sample_size_2 = 100\n",
    "#mean1 = 450, mean2 = 368\n",
    "#std1 = 82, std2 = 78\n"
   ]
  },
  {
   "cell_type": "markdown",
   "id": "9fdc2ec1",
   "metadata": {},
   "source": [
    "* Assume null hypothesis (HO) that the battery will lasts an average of at least 60 min longer than their competitor brand\n",
    "* Alternate Hypothesis (H1) be that the battery will not lasts an average of at least 60 min longer than their competitor brand"
   ]
  },
  {
   "cell_type": "code",
   "execution_count": 21,
   "id": "9ae9dec3",
   "metadata": {},
   "outputs": [
    {
     "data": {
      "text/plain": [
       "Ttest_indResult(statistic=7.245580616896932, pvalue=9.390871476154758e-12)"
      ]
     },
     "execution_count": 21,
     "metadata": {},
     "output_type": "execute_result"
    }
   ],
   "source": [
    "stats.ttest_ind_from_stats(mean1=450,std1=82,nobs1=100,mean2=368,std2=78,nobs2=100)"
   ]
  },
  {
   "cell_type": "markdown",
   "id": "598c06d2",
   "metadata": {},
   "source": [
    "* Since p value < alpha (0.05) ,we reject the null hypothesis and accept the alternate hypothesis. In other words,the battery will not lasts an average of at least 60 min longer than their competitor brand."
   ]
  },
  {
   "cell_type": "code",
   "execution_count": null,
   "id": "95b82b24",
   "metadata": {},
   "outputs": [],
   "source": []
  }
 ],
 "metadata": {
  "kernelspec": {
   "display_name": "Python 3",
   "language": "python",
   "name": "python3"
  },
  "language_info": {
   "codemirror_mode": {
    "name": "ipython",
    "version": 3
   },
   "file_extension": ".py",
   "mimetype": "text/x-python",
   "name": "python",
   "nbconvert_exporter": "python",
   "pygments_lexer": "ipython3",
   "version": "3.8.8"
  }
 },
 "nbformat": 4,
 "nbformat_minor": 5
}
